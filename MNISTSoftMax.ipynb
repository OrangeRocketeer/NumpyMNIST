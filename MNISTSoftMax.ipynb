{
 "cells": [
  {
   "cell_type": "code",
   "execution_count": 273,
   "id": "initial_id",
   "metadata": {
    "ExecuteTime": {
     "end_time": "2025-07-11T19:19:16.234186Z",
     "start_time": "2025-07-11T19:19:14.347727Z"
    }
   },
   "outputs": [],
   "source": [
    "import numpy as np\n",
    "from sklearn.datasets import fetch_openml\n",
    "\n",
    "mnist = fetch_openml('mnist_784', version=1, as_frame=False)\n",
    "X, y,X_test,y_test = mnist[\"data\"][:60000], mnist[\"target\"][:60000],mnist[\"data\"][60000:], mnist[\"target\"][60000:]"
   ]
  },
  {
   "cell_type": "code",
   "execution_count": 274,
   "id": "fb154ef032bd766b",
   "metadata": {
    "ExecuteTime": {
     "end_time": "2025-07-11T19:19:16.345139Z",
     "start_time": "2025-07-11T19:19:16.242016Z"
    }
   },
   "outputs": [
    {
     "data": {
      "image/png": "[encoded data removed]",
      "text/plain": [
       "<Figure size 640x480 with 1 Axes>"
      ]
     },
     "metadata": {},
     "output_type": "display_data"
    }
   ],
   "source": [
    "import matplotlib.pyplot as plt\n",
    "plt.imshow(255-X[1].reshape(28,28), cmap=\"gray\")\n",
    "plt.show()"
   ]
  },
  {
   "cell_type": "code",
   "execution_count": 275,
   "id": "31f84c9f44a06827",
   "metadata": {
    "ExecuteTime": {
     "end_time": "2025-07-11T19:19:16.364369Z",
     "start_time": "2025-07-11T19:19:16.357900Z"
    }
   },
   "outputs": [
    {
     "data": {
      "text/plain": [
       "(60000, 10)"
      ]
     },
     "execution_count": 275,
     "metadata": {},
     "output_type": "execute_result"
    }
   ],
   "source": [
    "y_ohe = np.zeros((X.shape[0], 10))\n",
    "y_ohe.shape"
   ]
  },
  {
   "cell_type": "code",
   "execution_count": 276,
   "id": "8d14e307041a1f4e",
   "metadata": {
    "ExecuteTime": {
     "end_time": "2025-07-11T19:19:16.423460Z",
     "start_time": "2025-07-11T19:19:16.407716Z"
    }
   },
   "outputs": [],
   "source": [
    "y_ohe[np.arange(len(y_ohe)),y.astype(int) ] = 1"
   ]
  },
  {
   "cell_type": "code",
   "execution_count": 277,
   "id": "1e4f79fc37d4c0c3",
   "metadata": {
    "ExecuteTime": {
     "end_time": "2025-07-11T19:19:16.662085Z",
     "start_time": "2025-07-11T19:19:16.467415Z"
    }
   },
   "outputs": [],
   "source": [
    "w = np.random.randn(784,10)*0.001\n",
    "b = np.zeros((1,10))\n",
    "X = X.astype(float)/255.0\n",
    "X_test = X_test.astype(float)/255.0"
   ]
  },
  {
   "cell_type": "code",
   "execution_count": 278,
   "id": "8253a82187722205",
   "metadata": {
    "ExecuteTime": {
     "end_time": "2025-07-11T19:19:16.679068Z",
     "start_time": "2025-07-11T19:19:16.675517Z"
    }
   },
   "outputs": [],
   "source": [
    "def loss_gradient(w,X , b, y_ohe):\n",
    "    o_mat = np.matmul(X,w) + b\n",
    "    o_mat = np.exp(o_mat - np.max(o_mat, axis=1, keepdims=True))\n",
    "    o_mat /= o_mat.sum(axis=1, keepdims=True)\n",
    "    return o_mat-y_ohe\n"
   ]
  },
  {
   "cell_type": "code",
   "execution_count": 286,
   "id": "9b2c6ae59a44ff48",
   "metadata": {
    "ExecuteTime": {
     "end_time": "2025-07-11T19:22:57.441948Z",
     "start_time": "2025-07-11T19:22:57.434368Z"
    }
   },
   "outputs": [],
   "source": [
    "def train_iter(X,y_ohe,batch_size = 5):\n",
    "    indices = np.arange(X.shape[0])\n",
    "    np.random.shuffle(indices)\n",
    "    for i in range(0,X.shape[0],batch_size):\n",
    "        yield X[indices[i: min(i+batch_size, X.shape[0])]],y_ohe[indices[i: min(i+batch_size, X.shape[0])]]"
   ]
  },
  {
   "cell_type": "code",
   "execution_count": 287,
   "id": "be9b3938fbe36d6",
   "metadata": {
    "ExecuteTime": {
     "end_time": "2025-07-11T19:22:59.679321Z",
     "start_time": "2025-07-11T19:22:59.674786Z"
    }
   },
   "outputs": [],
   "source": [
    "epochs = 3\n",
    "learning_rate = 0.03\n",
    "batch_size = 5"
   ]
  },
  {
   "cell_type": "code",
   "execution_count": 288,
   "id": "fbb5c95cb6d7e6a5",
   "metadata": {
    "ExecuteTime": {
     "end_time": "2025-07-11T19:23:03.439155Z",
     "start_time": "2025-07-11T19:23:00.295203Z"
    }
   },
   "outputs": [],
   "source": [
    "for epoch in range(epochs):\n",
    "    for X_batch , y_batch in train_iter(X,y_ohe,batch_size = 5):\n",
    "        w -= (learning_rate/batch_size) * np.matmul(np.transpose(X_batch),loss_gradient(w,X_batch,b,y_batch))\n",
    "        b -= (learning_rate/batch_size) * np.sum(loss_gradient(w,X_batch,b,y_batch), axis=0)\n"
   ]
  },
  {
   "cell_type": "code",
   "execution_count": 306,
   "id": "540f410be6210022",
   "metadata": {
    "ExecuteTime": {
     "end_time": "2025-07-11T19:29:19.822501Z",
     "start_time": "2025-07-11T19:29:19.801204Z"
    }
   },
   "outputs": [],
   "source": [
    "pred = (np.matmul(X_test,w) + b).argmax(axis=1)"
   ]
  },
  {
   "cell_type": "code",
   "execution_count": 307,
   "id": "d2f7511382390f90",
   "metadata": {
    "ExecuteTime": {
     "end_time": "2025-07-11T19:29:20.442096Z",
     "start_time": "2025-07-11T19:29:20.434119Z"
    }
   },
   "outputs": [],
   "source": [
    "accuracy_bools = (pred == y_test.astype(pred.dtype))"
   ]
  },
  {
   "cell_type": "code",
   "execution_count": 310,
   "id": "23755b08ccf3bd07",
   "metadata": {
    "ExecuteTime": {
     "end_time": "2025-07-11T19:30:00.701055Z",
     "start_time": "2025-07-11T19:30:00.695836Z"
    }
   },
   "outputs": [
    {
     "name": "stdout",
     "output_type": "stream",
     "text": [
      "Accuracy : 92.35%\n"
     ]
    }
   ],
   "source": [
    "print(f'Accuracy : {sum(accuracy_bools)/len(accuracy_bools) * 100:.2f}%')"
   ]
  }
 ],
 "metadata": {
  "kernelspec": {
   "display_name": "Python 3 (ipykernel)",
   "language": "python",
   "name": "python3"
  },
  "language_info": {
   "codemirror_mode": {
    "name": "ipython",
    "version": 3
   },
   "file_extension": ".py",
   "mimetype": "text/x-python",
   "name": "python",
   "nbconvert_exporter": "python",
   "pygments_lexer": "ipython3",
   "version": "3.12.3"
  }
 },
 "nbformat": 4,
 "nbformat_minor": 5
}
